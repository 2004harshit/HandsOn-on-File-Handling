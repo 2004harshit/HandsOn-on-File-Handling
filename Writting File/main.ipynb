{
 "cells": [
  {
   "cell_type": "markdown",
   "metadata": {},
   "source": [
    "## Writing to Files in Python\n",
    "\n",
    "### File Writing Modes\n",
    "\n",
    "1. **`w` Mode** (Write Mode)\n",
    "   - **Description**: Opens a file for writing. If the file exists, it is truncated (emptied). If it does not exist, a new file is created.\n",
    "   - **Usage**:\n",
    "   ```python\n",
    "   with open('example.txt', 'w') as file:\n",
    "       file.write(\"Hello, World!\\n\")\n",
    "       file.write(\"This is a new file.\")\n",
    "\n",
    "2. **`a` Mode** (Append Mode)\n",
    "   - **Description**: Opens a file for appending. Data is written at the end of the file, preserving existing content. If the file does not exist, it is created.\n",
    "   - **Usage**:\n",
    "   ```python\n",
    "   with open('example.txt', 'a') as file:\n",
    "        file.write(\"\\nAppending new content.\")\n",
    "\n",
    "3. **`r+` Mode** (Read and Write Mode)\n",
    "   - **Description**: Opens a file for both reading and writing. The file pointer is positioned at the beginning. Writing will overwrite existing content starting from the beginning.\n",
    "   - **Usage**:\n",
    "   ```python\n",
    "   with open('example.txt', 'r+') as file:\n",
    "        content = file.read()\n",
    "        print(\"Existing content:\")\n",
    "        print(content)\n",
    "\n",
    "        file.seek(0)  # Move pointer to start\n",
    "        file.write(\"Overwritten content.\\n\")\n",
    "\n"
   ]
  },
  {
   "cell_type": "markdown",
   "metadata": {},
   "source": [
    "### Creating a file and writting a meaasge from user in it "
   ]
  },
  {
   "cell_type": "code",
   "execution_count": 4,
   "metadata": {},
   "outputs": [
    {
     "name": "stdout",
     "output_type": "stream",
     "text": [
      "Initially the user says : \n",
      "Hey , You Know I am the GREATEST OF ALL TIME\n",
      "Finnaly the user says : \n",
      "It was my illusion\n"
     ]
    }
   ],
   "source": [
    "msg = input(\"Hey,What do you want to write in the file : \" )\n",
    "with open('user_msg.txt','w') as fd:\n",
    "    fd.write(msg)\n",
    "\n",
    "print(\"Initially the user says : \")\n",
    "with open('user_msg.txt','r') as fd:\n",
    "    content = fd.read()\n",
    "    print(content)\n",
    "\n",
    "msg = input(\"Hey,What do you want to write in the file : \" )\n",
    "with open('user_msg.txt','w') as fd:\n",
    "    fd.write(msg)\n",
    "\n",
    "print(\"Finnaly the user says : \")\n",
    "with open('user_msg.txt','r') as fd:\n",
    "    content = fd.read()\n",
    "    print(content)\n"
   ]
  },
  {
   "cell_type": "markdown",
   "metadata": {},
   "source": [
    "writting infile in append mode\n"
   ]
  },
  {
   "cell_type": "code",
   "execution_count": 5,
   "metadata": {},
   "outputs": [
    {
     "name": "stdout",
     "output_type": "stream",
     "text": [
      "File contains : \n",
      "It was my illusionHello My name is harshit ChauhanHello My name is harshit Chauhan\n"
     ]
    }
   ],
   "source": [
    "msg = input(\"Enter the string to be written in the file : \")\n",
    "with open('user_msg.txt','a') as fd:\n",
    "    fd.write(msg)\n",
    "    fd.write(msg)\n",
    "\n",
    "print(\"File contains : \")\n",
    "with open('user_msg.txt','r') as fd:\n",
    "    content = fd.read()\n",
    "    print(content)"
   ]
  }
 ],
 "metadata": {
  "kernelspec": {
   "display_name": "Python 3",
   "language": "python",
   "name": "python3"
  },
  "language_info": {
   "codemirror_mode": {
    "name": "ipython",
    "version": 3
   },
   "file_extension": ".py",
   "mimetype": "text/x-python",
   "name": "python",
   "nbconvert_exporter": "python",
   "pygments_lexer": "ipython3",
   "version": "3.12.4"
  }
 },
 "nbformat": 4,
 "nbformat_minor": 2
}
