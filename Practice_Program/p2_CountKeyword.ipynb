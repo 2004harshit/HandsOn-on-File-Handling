{
 "cells": [
  {
   "cell_type": "markdown",
   "metadata": {},
   "source": [
    "### Write a program to count How many no of times Keyword is present?"
   ]
  },
  {
   "cell_type": "code",
   "execution_count": 11,
   "metadata": {},
   "outputs": [
    {
     "name": "stdout",
     "output_type": "stream",
     "text": [
      "21\n",
      "['using', 'namespace', 'class', 'int', 'int', 'void', 'class', 'class', 'public', 'int', 'void', 'int', 'if', 'for', 'case', 'int', 'switch', 'case', 'case', 'case', 'return']\n"
     ]
    }
   ],
   "source": [
    "cpp_keywords = [\n",
    "    \"alignas\", \"alignof\", \"asm\", \"auto\", \"bitand\", \"bitor\", \"bool\", \"break\",\n",
    "    \"case\", \"catch\", \"char\", \"char16_t\", \"char32_t\", \"class\", \"compl\",\n",
    "    \"const\", \"constexpr\", \"const_cast\", \"continue\", \"decltype\", \"default\",\n",
    "    \"delete\", \"do\", \"double\", \"dynamic_cast\", \"else\", \"enum\", \"explicit\",\n",
    "    \"export\", \"extern\", \"false\", \"float\", \"for\", \"friend\", \"goto\", \"if\",\n",
    "    \"inline\", \"int\", \"long\", \"mutable\", \"namespace\", \"new\", \"noexcept\",\n",
    "    \"not\", \"nullptr\", \"operator\", \"or\", \"or_eq\", \"private\", \"protected\",\n",
    "    \"public\", \"register\", \"reinterpret_cast\", \"return\", \"short\", \"signed\",\n",
    "    \"sizeof\", \"static\", \"static_assert\", \"static_cast\", \"struct\", \"switch\",\n",
    "    \"template\", \"this\", \"thread_local\", \"throw\", \"true\", \"try\", \"typedef\",\n",
    "    \"typeid\", \"typename\", \"union\", \"unsigned\", \"using\", \"virtual\", \"void\",\n",
    "    \"volatile\", \"wchar_t\", \"while\", \"xor\", \"xor_eq\"\n",
    "]\n",
    " \n",
    "\n",
    "with open(\"sample.cpp\",'r') as fd:\n",
    "    line = fd.readline()\n",
    "    count_keyword  = 0 \n",
    "    present_Keyword = []\n",
    "    while(line):\n",
    "        token = line.strip().split()\n",
    "        for word in token : \n",
    "                if word in cpp_keywords:\n",
    "\n",
    "            # for keyword in cpp_keywords:\n",
    "            #     if word==keyword:\n",
    "                    count_keyword+=1\n",
    "                    present_Keyword.append(word)\n",
    "        line = fd.readline()\n",
    "print(count_keyword)\n",
    "print(present_Keyword)"
   ]
  },
  {
   "cell_type": "markdown",
   "metadata": {},
   "source": []
  },
  {
   "cell_type": "markdown",
   "metadata": {},
   "source": []
  }
 ],
 "metadata": {
  "kernelspec": {
   "display_name": "Python 3",
   "language": "python",
   "name": "python3"
  },
  "language_info": {
   "codemirror_mode": {
    "name": "ipython",
    "version": 3
   },
   "file_extension": ".py",
   "mimetype": "text/x-python",
   "name": "python",
   "nbconvert_exporter": "python",
   "pygments_lexer": "ipython3",
   "version": "3.12.4"
  }
 },
 "nbformat": 4,
 "nbformat_minor": 2
}
