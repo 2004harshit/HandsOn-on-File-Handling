{
 "cells": [
  {
   "cell_type": "markdown",
   "metadata": {},
   "source": [
    "## Write a program to count no of character in the random_words.txt file"
   ]
  },
  {
   "cell_type": "code",
   "execution_count": 2,
   "metadata": {},
   "outputs": [
    {
     "name": "stdout",
     "output_type": "stream",
     "text": [
      "No of character  =  783\n"
     ]
    }
   ],
   "source": [
    "with open('random_words.txt','r') as fd:\n",
    "    content = fd.read()\n",
    "    print(\"No of character  = \",len(content))"
   ]
  },
  {
   "cell_type": "markdown",
   "metadata": {},
   "source": [
    "## Write a program to count no of words in the random_words.txt file"
   ]
  },
  {
   "cell_type": "code",
   "execution_count": 11,
   "metadata": {},
   "outputs": [
    {
     "name": "stdout",
     "output_type": "stream",
     "text": [
      "['strawberry', 'yellow']\n",
      "No of words  =  2\n"
     ]
    }
   ],
   "source": [
    "with open('random_words.txt','r') as fd:\n",
    "    content = fd.read()\n",
    "    content = content.strip()\n",
    "    content = content.split()\n",
    "    print(content)\n",
    "    print(\"No of words  = \",len(content))"
   ]
  },
  {
   "cell_type": "markdown",
   "metadata": {},
   "source": [
    "## Write a program to count occurence of a in random_words.txt file\n"
   ]
  },
  {
   "cell_type": "code",
   "execution_count": 16,
   "metadata": {},
   "outputs": [
    {
     "name": "stdout",
     "output_type": "stream",
     "text": [
      "No of occurence of a is :  93\n"
     ]
    }
   ],
   "source": [
    "\n",
    "with open('random_words.txt','r') as fd:\n",
    "    count_a =0\n",
    "    content = fd.read()\n",
    "    for char in content:\n",
    "        if char =='a':\n",
    "            count_a+=1;\n",
    "print(\"No of occurence of a is : \",count_a)\n"
   ]
  }
 ],
 "metadata": {
  "kernelspec": {
   "display_name": "Python 3",
   "language": "python",
   "name": "python3"
  },
  "language_info": {
   "codemirror_mode": {
    "name": "ipython",
    "version": 3
   },
   "file_extension": ".py",
   "mimetype": "text/x-python",
   "name": "python",
   "nbconvert_exporter": "python",
   "pygments_lexer": "ipython3",
   "version": "3.12.4"
  }
 },
 "nbformat": 4,
 "nbformat_minor": 2
}
