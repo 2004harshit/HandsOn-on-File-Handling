{
 "cells": [
  {
   "cell_type": "markdown",
   "metadata": {},
   "source": []
  },
  {
   "cell_type": "markdown",
   "metadata": {},
   "source": [
    "<h1>Method 1</h1>"
   ]
  },
  {
   "cell_type": "code",
   "execution_count": 1,
   "metadata": {},
   "outputs": [
    {
     "name": "stdout",
     "output_type": "stream",
     "text": [
      "#include<iostream>\n",
      "using namespace std;\n",
      "int main(){\n",
      "return 0;\n",
      "}\n",
      "\n",
      "Is the my file successfully closed  : False\n",
      "Is the my file successfully closed  : True\n"
     ]
    }
   ],
   "source": [
    "fd= open(\"file.txt\",'r')\n",
    "content = fd.read()\n",
    "print(content)\n",
    "\n",
    "print(\"Is the my file successfully closed  :\",fd.closed)\n",
    "fd.close()\n",
    "print(\"Is the my file successfully closed  :\",fd.closed)\n"
   ]
  },
  {
   "cell_type": "markdown",
   "metadata": {},
   "source": []
  },
  {
   "cell_type": "markdown",
   "metadata": {},
   "source": [
    "## Consequences of Not Closing a File in Python\n",
    "\n",
    "When a file is opened but not closed in Python, several issues can occur:\n",
    "\n",
    "1. **Resource Leakage**: Open file descriptors are not released, potentially leading to exhaustion of available file descriptors.\n",
    "\n",
    "2. **File Locking**: The file may remain locked, preventing access by other processes.\n",
    "\n",
    "3. **Inconsistent File State**: Unsaved data may not be flushed to disk, especially during write operations.\n",
    "\n",
    "4. **Garbage Collection**: Relying on garbage collection to close files is risky, as it may not happen immediately.\n",
    "\n",
    "### Best Practice: Use `with`\n",
    "\n",
    "Always close files after use. The `with` statement ensures automatic closure:\n",
    "\n",
    "```python\n",
    "with open(\"file.txt\", 'r') as fd:\n",
    "    content = fd.read()\n",
    "    print(content)\n",
    "# The file is automatically closed when the block ends\n"
   ]
  },
  {
   "cell_type": "markdown",
   "metadata": {},
   "source": [
    "# Method 2"
   ]
  },
  {
   "cell_type": "code",
   "execution_count": 2,
   "metadata": {},
   "outputs": [
    {
     "name": "stdout",
     "output_type": "stream",
     "text": [
      "#include<iostream>\n",
      "using namespace std;\n",
      "int main(){\n",
      "return 0;\n",
      "}\n",
      "\n",
      "Is the my file successfully closed  : True\n"
     ]
    }
   ],
   "source": [
    "with open('file.txt','r') as readFile:\n",
    "    content = readFile.read()\n",
    "    print(content)\n",
    "print(\"Is the my file successfully closed  :\",fd.closed)"
   ]
  },
  {
   "cell_type": "markdown",
   "metadata": {},
   "source": [
    "## readline() function\n",
    "<p>Reading line by line:</p>"
   ]
  },
  {
   "cell_type": "code",
   "execution_count": 3,
   "metadata": {},
   "outputs": [
    {
     "name": "stdout",
     "output_type": "stream",
     "text": [
      "Line 0 :  using namespace std;\n",
      "\n",
      "Line 1 :  int main(){\n",
      "\n",
      "Line 2 :  return 0;\n",
      "\n",
      "Line 3 :  }\n",
      "\n",
      "Line 4 :  \n"
     ]
    }
   ],
   "source": [
    "with open('file.txt','r') as readFile:\n",
    "\n",
    "    line = readFile.readline()\n",
    "    i=0\n",
    "    while(line):\n",
    "        line = readFile.readline()\n",
    "        print(f\"Line {i} : \",line)\n",
    "        i+=1"
   ]
  },
  {
   "cell_type": "markdown",
   "metadata": {},
   "source": [
    "# Reading Character"
   ]
  },
  {
   "cell_type": "code",
   "execution_count": 4,
   "metadata": {},
   "outputs": [
    {
     "name": "stdout",
     "output_type": "stream",
     "text": [
      "#include<i\n"
     ]
    }
   ],
   "source": [
    "# this code read the no of charcter passed as argument in read()\n",
    "#  function\n",
    "with open('file.txt','r') as readFile:\n",
    "    content = readFile.read(10)\n",
    "    print(content)"
   ]
  },
  {
   "cell_type": "code",
   "execution_count": 5,
   "metadata": {},
   "outputs": [
    {
     "name": "stdout",
     "output_type": "stream",
     "text": [
      "stream>\n",
      "us\n"
     ]
    }
   ],
   "source": [
    "# finding specific character:\n",
    "with open('file.txt','r') as readFile:\n",
    "    readFile.seek(11)\n",
    "    content = readFile.read(10)\n",
    "    print(content)\n",
    "    "
   ]
  }
 ],
 "metadata": {
  "kernelspec": {
   "display_name": "Python 3",
   "language": "python",
   "name": "python3"
  },
  "language_info": {
   "codemirror_mode": {
    "name": "ipython",
    "version": 3
   },
   "file_extension": ".py",
   "mimetype": "text/x-python",
   "name": "python",
   "nbconvert_exporter": "python",
   "pygments_lexer": "ipython3",
   "version": "3.12.4"
  }
 },
 "nbformat": 4,
 "nbformat_minor": 2
}
